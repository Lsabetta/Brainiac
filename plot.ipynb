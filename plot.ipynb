{
 "cells": [
  {
   "cell_type": "code",
   "execution_count": 4,
   "metadata": {},
   "outputs": [],
   "source": [
    "import matplotlib.pyplot as plt\n",
    "import numpy as np\n",
    "import pandas as pd\n",
    "import pickle as pkl\n",
    "import seaborn as sns\n"
   ]
  },
  {
   "cell_type": "code",
   "execution_count": 11,
   "metadata": {},
   "outputs": [],
   "source": [
    "# Plots accuracy, ood and confusion for a given dataset\n",
    "\n",
    "def plot(df, max_points):\n",
    "    fig, ax = plt.subplots(1, 3, figsize=(20, 5))\n",
    "\n",
    "    ax[0].plot(df['accuracy'].values[:max_points], label='acc')\n",
    "    ax[0].set_title('accuracy ↑')\n",
    "    \n",
    "    ax[1].plot(df['ood'].values[:max_points], label='ood')\n",
    "    ax[1].set_title('ood ↑')\n",
    "    \n",
    "    ax[2].plot(df['confusion'].values[:max_points])\n",
    "    ax[2].set_title('confusion ↓')\n",
    "    plt.legend()\n",
    "\n"
   ]
  },
  {
   "cell_type": "code",
   "execution_count": 14,
   "metadata": {},
   "outputs": [],
   "source": [
    "DATASET = 'CIFAR100'\n",
    "MODEL = 'CLIP'\n",
    "DISTANCE_TYPE = 'l2'\n",
    "PROCESSING_FRAMES = 30\n",
    "THRESHOLD = 6.60\n",
    "MAX_POINTS = 200\n",
    "\n",
    "dir_path = f\"results/{DATASET}_{DISTANCE_TYPE}_{PROCESSING_FRAMES}_{MODEL}/metrics_{format(THRESHOLD, '.2f')}.csv\"\n",
    "df = pd.read_csv(dir_path)"
   ]
  },
  {
   "cell_type": "code",
   "execution_count": 15,
   "metadata": {},
   "outputs": [
    {
     "ename": "TypeError",
     "evalue": "plot() missing 4 required positional arguments: 'dataset', 'model', 'distance_type', and 'processing_frames'",
     "output_type": "error",
     "traceback": [
      "\u001b[0;31m---------------------------------------------------------------------------\u001b[0m",
      "\u001b[0;31mTypeError\u001b[0m                                 Traceback (most recent call last)",
      "Cell \u001b[0;32mIn[15], line 1\u001b[0m\n\u001b[0;32m----> 1\u001b[0m plot(df, )\n",
      "\u001b[0;31mTypeError\u001b[0m: plot() missing 4 required positional arguments: 'dataset', 'model', 'distance_type', and 'processing_frames'"
     ]
    }
   ],
   "source": [
    "plot(df, MAX_POINTS)"
   ]
  },
  {
   "cell_type": "code",
   "execution_count": null,
   "metadata": {},
   "outputs": [],
   "source": []
  },
  {
   "cell_type": "code",
   "execution_count": null,
   "metadata": {},
   "outputs": [],
   "source": []
  }
 ],
 "metadata": {
  "kernelspec": {
   "display_name": "glbl",
   "language": "python",
   "name": "python3"
  },
  "language_info": {
   "codemirror_mode": {
    "name": "ipython",
    "version": 3
   },
   "file_extension": ".py",
   "mimetype": "text/x-python",
   "name": "python",
   "nbconvert_exporter": "python",
   "pygments_lexer": "ipython3",
   "version": "3.10.6"
  },
  "orig_nbformat": 4
 },
 "nbformat": 4,
 "nbformat_minor": 2
}
